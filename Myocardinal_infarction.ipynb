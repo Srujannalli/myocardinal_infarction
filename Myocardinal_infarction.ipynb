{
 "cells": [
  {
   "cell_type": "code",
   "execution_count": 2,
   "id": "e4631f0b",
   "metadata": {
    "ExecuteTime": {
     "end_time": "2023-11-04T07:16:24.795677Z",
     "start_time": "2023-11-04T07:16:22.284281Z"
    }
   },
   "outputs": [],
   "source": [
    "import pandas as pd \n",
    "import matplotlib.pyplot as plt\n",
    "import seaborn as sns"
   ]
  },
  {
   "cell_type": "code",
   "execution_count": 3,
   "id": "c5701252",
   "metadata": {
    "ExecuteTime": {
     "end_time": "2023-11-04T07:16:24.842780Z",
     "start_time": "2023-11-04T07:16:24.796674Z"
    }
   },
   "outputs": [
    {
     "data": {
      "text/html": [
       "<div>\n",
       "<style scoped>\n",
       "    .dataframe tbody tr th:only-of-type {\n",
       "        vertical-align: middle;\n",
       "    }\n",
       "\n",
       "    .dataframe tbody tr th {\n",
       "        vertical-align: top;\n",
       "    }\n",
       "\n",
       "    .dataframe thead th {\n",
       "        text-align: right;\n",
       "    }\n",
       "</style>\n",
       "<table border=\"1\" class=\"dataframe\">\n",
       "  <thead>\n",
       "    <tr style=\"text-align: right;\">\n",
       "      <th></th>\n",
       "      <th>ID</th>\n",
       "      <th>AGE</th>\n",
       "      <th>SEX</th>\n",
       "      <th>INF_ANAM</th>\n",
       "      <th>STENOK_AN</th>\n",
       "      <th>FK_STENOK</th>\n",
       "      <th>IBS_POST</th>\n",
       "      <th>IBS_NASL</th>\n",
       "      <th>GB</th>\n",
       "      <th>SIM_GIPERT</th>\n",
       "      <th>...</th>\n",
       "      <th>JELUD_TAH</th>\n",
       "      <th>FIBR_JELUD</th>\n",
       "      <th>A_V_BLOK</th>\n",
       "      <th>OTEK_LANC</th>\n",
       "      <th>RAZRIV</th>\n",
       "      <th>DRESSLER</th>\n",
       "      <th>ZSN</th>\n",
       "      <th>REC_IM</th>\n",
       "      <th>P_IM_STEN</th>\n",
       "      <th>LET_IS</th>\n",
       "    </tr>\n",
       "  </thead>\n",
       "  <tbody>\n",
       "    <tr>\n",
       "      <th>0</th>\n",
       "      <td>1</td>\n",
       "      <td>77.0</td>\n",
       "      <td>1</td>\n",
       "      <td>2.0</td>\n",
       "      <td>1.0</td>\n",
       "      <td>1.0</td>\n",
       "      <td>2.0</td>\n",
       "      <td>NaN</td>\n",
       "      <td>3.0</td>\n",
       "      <td>0.0</td>\n",
       "      <td>...</td>\n",
       "      <td>0</td>\n",
       "      <td>0</td>\n",
       "      <td>0</td>\n",
       "      <td>0</td>\n",
       "      <td>0</td>\n",
       "      <td>0</td>\n",
       "      <td>0</td>\n",
       "      <td>0</td>\n",
       "      <td>0</td>\n",
       "      <td>0</td>\n",
       "    </tr>\n",
       "    <tr>\n",
       "      <th>1</th>\n",
       "      <td>2</td>\n",
       "      <td>55.0</td>\n",
       "      <td>1</td>\n",
       "      <td>1.0</td>\n",
       "      <td>0.0</td>\n",
       "      <td>0.0</td>\n",
       "      <td>0.0</td>\n",
       "      <td>0.0</td>\n",
       "      <td>0.0</td>\n",
       "      <td>0.0</td>\n",
       "      <td>...</td>\n",
       "      <td>0</td>\n",
       "      <td>0</td>\n",
       "      <td>0</td>\n",
       "      <td>0</td>\n",
       "      <td>0</td>\n",
       "      <td>0</td>\n",
       "      <td>0</td>\n",
       "      <td>0</td>\n",
       "      <td>0</td>\n",
       "      <td>0</td>\n",
       "    </tr>\n",
       "    <tr>\n",
       "      <th>2</th>\n",
       "      <td>3</td>\n",
       "      <td>52.0</td>\n",
       "      <td>1</td>\n",
       "      <td>0.0</td>\n",
       "      <td>0.0</td>\n",
       "      <td>0.0</td>\n",
       "      <td>2.0</td>\n",
       "      <td>NaN</td>\n",
       "      <td>2.0</td>\n",
       "      <td>0.0</td>\n",
       "      <td>...</td>\n",
       "      <td>0</td>\n",
       "      <td>0</td>\n",
       "      <td>0</td>\n",
       "      <td>0</td>\n",
       "      <td>0</td>\n",
       "      <td>0</td>\n",
       "      <td>0</td>\n",
       "      <td>0</td>\n",
       "      <td>0</td>\n",
       "      <td>0</td>\n",
       "    </tr>\n",
       "    <tr>\n",
       "      <th>3</th>\n",
       "      <td>4</td>\n",
       "      <td>68.0</td>\n",
       "      <td>0</td>\n",
       "      <td>0.0</td>\n",
       "      <td>0.0</td>\n",
       "      <td>0.0</td>\n",
       "      <td>2.0</td>\n",
       "      <td>NaN</td>\n",
       "      <td>2.0</td>\n",
       "      <td>0.0</td>\n",
       "      <td>...</td>\n",
       "      <td>0</td>\n",
       "      <td>0</td>\n",
       "      <td>0</td>\n",
       "      <td>0</td>\n",
       "      <td>0</td>\n",
       "      <td>0</td>\n",
       "      <td>1</td>\n",
       "      <td>0</td>\n",
       "      <td>0</td>\n",
       "      <td>0</td>\n",
       "    </tr>\n",
       "    <tr>\n",
       "      <th>4</th>\n",
       "      <td>5</td>\n",
       "      <td>60.0</td>\n",
       "      <td>1</td>\n",
       "      <td>0.0</td>\n",
       "      <td>0.0</td>\n",
       "      <td>0.0</td>\n",
       "      <td>2.0</td>\n",
       "      <td>NaN</td>\n",
       "      <td>3.0</td>\n",
       "      <td>0.0</td>\n",
       "      <td>...</td>\n",
       "      <td>0</td>\n",
       "      <td>0</td>\n",
       "      <td>0</td>\n",
       "      <td>0</td>\n",
       "      <td>0</td>\n",
       "      <td>0</td>\n",
       "      <td>0</td>\n",
       "      <td>0</td>\n",
       "      <td>0</td>\n",
       "      <td>0</td>\n",
       "    </tr>\n",
       "    <tr>\n",
       "      <th>...</th>\n",
       "      <td>...</td>\n",
       "      <td>...</td>\n",
       "      <td>...</td>\n",
       "      <td>...</td>\n",
       "      <td>...</td>\n",
       "      <td>...</td>\n",
       "      <td>...</td>\n",
       "      <td>...</td>\n",
       "      <td>...</td>\n",
       "      <td>...</td>\n",
       "      <td>...</td>\n",
       "      <td>...</td>\n",
       "      <td>...</td>\n",
       "      <td>...</td>\n",
       "      <td>...</td>\n",
       "      <td>...</td>\n",
       "      <td>...</td>\n",
       "      <td>...</td>\n",
       "      <td>...</td>\n",
       "      <td>...</td>\n",
       "      <td>...</td>\n",
       "    </tr>\n",
       "    <tr>\n",
       "      <th>1695</th>\n",
       "      <td>1696</td>\n",
       "      <td>77.0</td>\n",
       "      <td>0</td>\n",
       "      <td>0.0</td>\n",
       "      <td>4.0</td>\n",
       "      <td>2.0</td>\n",
       "      <td>1.0</td>\n",
       "      <td>NaN</td>\n",
       "      <td>2.0</td>\n",
       "      <td>0.0</td>\n",
       "      <td>...</td>\n",
       "      <td>0</td>\n",
       "      <td>0</td>\n",
       "      <td>1</td>\n",
       "      <td>0</td>\n",
       "      <td>1</td>\n",
       "      <td>0</td>\n",
       "      <td>0</td>\n",
       "      <td>0</td>\n",
       "      <td>0</td>\n",
       "      <td>3</td>\n",
       "    </tr>\n",
       "    <tr>\n",
       "      <th>1696</th>\n",
       "      <td>1697</td>\n",
       "      <td>70.0</td>\n",
       "      <td>0</td>\n",
       "      <td>0.0</td>\n",
       "      <td>6.0</td>\n",
       "      <td>2.0</td>\n",
       "      <td>1.0</td>\n",
       "      <td>NaN</td>\n",
       "      <td>2.0</td>\n",
       "      <td>0.0</td>\n",
       "      <td>...</td>\n",
       "      <td>0</td>\n",
       "      <td>0</td>\n",
       "      <td>0</td>\n",
       "      <td>0</td>\n",
       "      <td>0</td>\n",
       "      <td>0</td>\n",
       "      <td>0</td>\n",
       "      <td>0</td>\n",
       "      <td>0</td>\n",
       "      <td>1</td>\n",
       "    </tr>\n",
       "    <tr>\n",
       "      <th>1697</th>\n",
       "      <td>1698</td>\n",
       "      <td>55.0</td>\n",
       "      <td>1</td>\n",
       "      <td>3.0</td>\n",
       "      <td>6.0</td>\n",
       "      <td>2.0</td>\n",
       "      <td>2.0</td>\n",
       "      <td>NaN</td>\n",
       "      <td>0.0</td>\n",
       "      <td>0.0</td>\n",
       "      <td>...</td>\n",
       "      <td>0</td>\n",
       "      <td>0</td>\n",
       "      <td>0</td>\n",
       "      <td>0</td>\n",
       "      <td>0</td>\n",
       "      <td>0</td>\n",
       "      <td>0</td>\n",
       "      <td>1</td>\n",
       "      <td>0</td>\n",
       "      <td>6</td>\n",
       "    </tr>\n",
       "    <tr>\n",
       "      <th>1698</th>\n",
       "      <td>1699</td>\n",
       "      <td>79.0</td>\n",
       "      <td>0</td>\n",
       "      <td>2.0</td>\n",
       "      <td>2.0</td>\n",
       "      <td>2.0</td>\n",
       "      <td>1.0</td>\n",
       "      <td>NaN</td>\n",
       "      <td>2.0</td>\n",
       "      <td>0.0</td>\n",
       "      <td>...</td>\n",
       "      <td>0</td>\n",
       "      <td>0</td>\n",
       "      <td>0</td>\n",
       "      <td>1</td>\n",
       "      <td>0</td>\n",
       "      <td>0</td>\n",
       "      <td>0</td>\n",
       "      <td>0</td>\n",
       "      <td>0</td>\n",
       "      <td>1</td>\n",
       "    </tr>\n",
       "    <tr>\n",
       "      <th>1699</th>\n",
       "      <td>1700</td>\n",
       "      <td>63.0</td>\n",
       "      <td>1</td>\n",
       "      <td>2.0</td>\n",
       "      <td>NaN</td>\n",
       "      <td>NaN</td>\n",
       "      <td>NaN</td>\n",
       "      <td>NaN</td>\n",
       "      <td>2.0</td>\n",
       "      <td>0.0</td>\n",
       "      <td>...</td>\n",
       "      <td>0</td>\n",
       "      <td>0</td>\n",
       "      <td>0</td>\n",
       "      <td>0</td>\n",
       "      <td>0</td>\n",
       "      <td>0</td>\n",
       "      <td>0</td>\n",
       "      <td>0</td>\n",
       "      <td>0</td>\n",
       "      <td>1</td>\n",
       "    </tr>\n",
       "  </tbody>\n",
       "</table>\n",
       "<p>1700 rows × 124 columns</p>\n",
       "</div>"
      ],
      "text/plain": [
       "        ID   AGE  SEX  INF_ANAM  STENOK_AN  FK_STENOK  IBS_POST  IBS_NASL  \\\n",
       "0        1  77.0    1       2.0        1.0        1.0       2.0       NaN   \n",
       "1        2  55.0    1       1.0        0.0        0.0       0.0       0.0   \n",
       "2        3  52.0    1       0.0        0.0        0.0       2.0       NaN   \n",
       "3        4  68.0    0       0.0        0.0        0.0       2.0       NaN   \n",
       "4        5  60.0    1       0.0        0.0        0.0       2.0       NaN   \n",
       "...    ...   ...  ...       ...        ...        ...       ...       ...   \n",
       "1695  1696  77.0    0       0.0        4.0        2.0       1.0       NaN   \n",
       "1696  1697  70.0    0       0.0        6.0        2.0       1.0       NaN   \n",
       "1697  1698  55.0    1       3.0        6.0        2.0       2.0       NaN   \n",
       "1698  1699  79.0    0       2.0        2.0        2.0       1.0       NaN   \n",
       "1699  1700  63.0    1       2.0        NaN        NaN       NaN       NaN   \n",
       "\n",
       "       GB  SIM_GIPERT  ...  JELUD_TAH  FIBR_JELUD  A_V_BLOK  OTEK_LANC  \\\n",
       "0     3.0         0.0  ...          0           0         0          0   \n",
       "1     0.0         0.0  ...          0           0         0          0   \n",
       "2     2.0         0.0  ...          0           0         0          0   \n",
       "3     2.0         0.0  ...          0           0         0          0   \n",
       "4     3.0         0.0  ...          0           0         0          0   \n",
       "...   ...         ...  ...        ...         ...       ...        ...   \n",
       "1695  2.0         0.0  ...          0           0         1          0   \n",
       "1696  2.0         0.0  ...          0           0         0          0   \n",
       "1697  0.0         0.0  ...          0           0         0          0   \n",
       "1698  2.0         0.0  ...          0           0         0          1   \n",
       "1699  2.0         0.0  ...          0           0         0          0   \n",
       "\n",
       "      RAZRIV  DRESSLER  ZSN  REC_IM  P_IM_STEN  LET_IS  \n",
       "0          0         0    0       0          0       0  \n",
       "1          0         0    0       0          0       0  \n",
       "2          0         0    0       0          0       0  \n",
       "3          0         0    1       0          0       0  \n",
       "4          0         0    0       0          0       0  \n",
       "...      ...       ...  ...     ...        ...     ...  \n",
       "1695       1         0    0       0          0       3  \n",
       "1696       0         0    0       0          0       1  \n",
       "1697       0         0    0       1          0       6  \n",
       "1698       0         0    0       0          0       1  \n",
       "1699       0         0    0       0          0       1  \n",
       "\n",
       "[1700 rows x 124 columns]"
      ]
     },
     "execution_count": 3,
     "metadata": {},
     "output_type": "execute_result"
    }
   ],
   "source": [
    "data = pd.read_csv(\"Myocardial infarction complications.csv\")\n",
    "data"
   ]
  },
  {
   "cell_type": "code",
   "execution_count": 4,
   "id": "7de65344",
   "metadata": {
    "ExecuteTime": {
     "end_time": "2023-11-04T07:16:24.858243Z",
     "start_time": "2023-11-04T07:16:24.843779Z"
    }
   },
   "outputs": [
    {
     "data": {
      "text/html": [
       "<div>\n",
       "<style scoped>\n",
       "    .dataframe tbody tr th:only-of-type {\n",
       "        vertical-align: middle;\n",
       "    }\n",
       "\n",
       "    .dataframe tbody tr th {\n",
       "        vertical-align: top;\n",
       "    }\n",
       "\n",
       "    .dataframe thead th {\n",
       "        text-align: right;\n",
       "    }\n",
       "</style>\n",
       "<table border=\"1\" class=\"dataframe\">\n",
       "  <thead>\n",
       "    <tr style=\"text-align: right;\">\n",
       "      <th></th>\n",
       "      <th>ID</th>\n",
       "      <th>AGE</th>\n",
       "      <th>SEX</th>\n",
       "      <th>INF_ANAM</th>\n",
       "      <th>STENOK_AN</th>\n",
       "      <th>FK_STENOK</th>\n",
       "      <th>IBS_POST</th>\n",
       "      <th>IBS_NASL</th>\n",
       "      <th>GB</th>\n",
       "      <th>SIM_GIPERT</th>\n",
       "      <th>...</th>\n",
       "      <th>JELUD_TAH</th>\n",
       "      <th>FIBR_JELUD</th>\n",
       "      <th>A_V_BLOK</th>\n",
       "      <th>OTEK_LANC</th>\n",
       "      <th>RAZRIV</th>\n",
       "      <th>DRESSLER</th>\n",
       "      <th>ZSN</th>\n",
       "      <th>REC_IM</th>\n",
       "      <th>P_IM_STEN</th>\n",
       "      <th>LET_IS</th>\n",
       "    </tr>\n",
       "  </thead>\n",
       "  <tbody>\n",
       "    <tr>\n",
       "      <th>0</th>\n",
       "      <td>1</td>\n",
       "      <td>77.0</td>\n",
       "      <td>1</td>\n",
       "      <td>2.0</td>\n",
       "      <td>1.0</td>\n",
       "      <td>1.0</td>\n",
       "      <td>2.0</td>\n",
       "      <td>NaN</td>\n",
       "      <td>3.0</td>\n",
       "      <td>0.0</td>\n",
       "      <td>...</td>\n",
       "      <td>0</td>\n",
       "      <td>0</td>\n",
       "      <td>0</td>\n",
       "      <td>0</td>\n",
       "      <td>0</td>\n",
       "      <td>0</td>\n",
       "      <td>0</td>\n",
       "      <td>0</td>\n",
       "      <td>0</td>\n",
       "      <td>0</td>\n",
       "    </tr>\n",
       "    <tr>\n",
       "      <th>1</th>\n",
       "      <td>2</td>\n",
       "      <td>55.0</td>\n",
       "      <td>1</td>\n",
       "      <td>1.0</td>\n",
       "      <td>0.0</td>\n",
       "      <td>0.0</td>\n",
       "      <td>0.0</td>\n",
       "      <td>0.0</td>\n",
       "      <td>0.0</td>\n",
       "      <td>0.0</td>\n",
       "      <td>...</td>\n",
       "      <td>0</td>\n",
       "      <td>0</td>\n",
       "      <td>0</td>\n",
       "      <td>0</td>\n",
       "      <td>0</td>\n",
       "      <td>0</td>\n",
       "      <td>0</td>\n",
       "      <td>0</td>\n",
       "      <td>0</td>\n",
       "      <td>0</td>\n",
       "    </tr>\n",
       "    <tr>\n",
       "      <th>2</th>\n",
       "      <td>3</td>\n",
       "      <td>52.0</td>\n",
       "      <td>1</td>\n",
       "      <td>0.0</td>\n",
       "      <td>0.0</td>\n",
       "      <td>0.0</td>\n",
       "      <td>2.0</td>\n",
       "      <td>NaN</td>\n",
       "      <td>2.0</td>\n",
       "      <td>0.0</td>\n",
       "      <td>...</td>\n",
       "      <td>0</td>\n",
       "      <td>0</td>\n",
       "      <td>0</td>\n",
       "      <td>0</td>\n",
       "      <td>0</td>\n",
       "      <td>0</td>\n",
       "      <td>0</td>\n",
       "      <td>0</td>\n",
       "      <td>0</td>\n",
       "      <td>0</td>\n",
       "    </tr>\n",
       "    <tr>\n",
       "      <th>3</th>\n",
       "      <td>4</td>\n",
       "      <td>68.0</td>\n",
       "      <td>0</td>\n",
       "      <td>0.0</td>\n",
       "      <td>0.0</td>\n",
       "      <td>0.0</td>\n",
       "      <td>2.0</td>\n",
       "      <td>NaN</td>\n",
       "      <td>2.0</td>\n",
       "      <td>0.0</td>\n",
       "      <td>...</td>\n",
       "      <td>0</td>\n",
       "      <td>0</td>\n",
       "      <td>0</td>\n",
       "      <td>0</td>\n",
       "      <td>0</td>\n",
       "      <td>0</td>\n",
       "      <td>1</td>\n",
       "      <td>0</td>\n",
       "      <td>0</td>\n",
       "      <td>0</td>\n",
       "    </tr>\n",
       "    <tr>\n",
       "      <th>4</th>\n",
       "      <td>5</td>\n",
       "      <td>60.0</td>\n",
       "      <td>1</td>\n",
       "      <td>0.0</td>\n",
       "      <td>0.0</td>\n",
       "      <td>0.0</td>\n",
       "      <td>2.0</td>\n",
       "      <td>NaN</td>\n",
       "      <td>3.0</td>\n",
       "      <td>0.0</td>\n",
       "      <td>...</td>\n",
       "      <td>0</td>\n",
       "      <td>0</td>\n",
       "      <td>0</td>\n",
       "      <td>0</td>\n",
       "      <td>0</td>\n",
       "      <td>0</td>\n",
       "      <td>0</td>\n",
       "      <td>0</td>\n",
       "      <td>0</td>\n",
       "      <td>0</td>\n",
       "    </tr>\n",
       "  </tbody>\n",
       "</table>\n",
       "<p>5 rows × 124 columns</p>\n",
       "</div>"
      ],
      "text/plain": [
       "   ID   AGE  SEX  INF_ANAM  STENOK_AN  FK_STENOK  IBS_POST  IBS_NASL   GB  \\\n",
       "0   1  77.0    1       2.0        1.0        1.0       2.0       NaN  3.0   \n",
       "1   2  55.0    1       1.0        0.0        0.0       0.0       0.0  0.0   \n",
       "2   3  52.0    1       0.0        0.0        0.0       2.0       NaN  2.0   \n",
       "3   4  68.0    0       0.0        0.0        0.0       2.0       NaN  2.0   \n",
       "4   5  60.0    1       0.0        0.0        0.0       2.0       NaN  3.0   \n",
       "\n",
       "   SIM_GIPERT  ...  JELUD_TAH  FIBR_JELUD  A_V_BLOK  OTEK_LANC  RAZRIV  \\\n",
       "0         0.0  ...          0           0         0          0       0   \n",
       "1         0.0  ...          0           0         0          0       0   \n",
       "2         0.0  ...          0           0         0          0       0   \n",
       "3         0.0  ...          0           0         0          0       0   \n",
       "4         0.0  ...          0           0         0          0       0   \n",
       "\n",
       "   DRESSLER  ZSN  REC_IM  P_IM_STEN  LET_IS  \n",
       "0         0    0       0          0       0  \n",
       "1         0    0       0          0       0  \n",
       "2         0    0       0          0       0  \n",
       "3         0    1       0          0       0  \n",
       "4         0    0       0          0       0  \n",
       "\n",
       "[5 rows x 124 columns]"
      ]
     },
     "execution_count": 4,
     "metadata": {},
     "output_type": "execute_result"
    }
   ],
   "source": [
    "data.head()"
   ]
  },
  {
   "cell_type": "code",
   "execution_count": 5,
   "id": "e15489a2",
   "metadata": {
    "ExecuteTime": {
     "end_time": "2023-11-04T07:16:24.873751Z",
     "start_time": "2023-11-04T07:16:24.859746Z"
    }
   },
   "outputs": [
    {
     "data": {
      "text/html": [
       "<div>\n",
       "<style scoped>\n",
       "    .dataframe tbody tr th:only-of-type {\n",
       "        vertical-align: middle;\n",
       "    }\n",
       "\n",
       "    .dataframe tbody tr th {\n",
       "        vertical-align: top;\n",
       "    }\n",
       "\n",
       "    .dataframe thead th {\n",
       "        text-align: right;\n",
       "    }\n",
       "</style>\n",
       "<table border=\"1\" class=\"dataframe\">\n",
       "  <thead>\n",
       "    <tr style=\"text-align: right;\">\n",
       "      <th></th>\n",
       "      <th>ID</th>\n",
       "      <th>AGE</th>\n",
       "      <th>SEX</th>\n",
       "      <th>INF_ANAM</th>\n",
       "      <th>STENOK_AN</th>\n",
       "      <th>FK_STENOK</th>\n",
       "      <th>IBS_POST</th>\n",
       "      <th>IBS_NASL</th>\n",
       "      <th>GB</th>\n",
       "      <th>SIM_GIPERT</th>\n",
       "      <th>...</th>\n",
       "      <th>JELUD_TAH</th>\n",
       "      <th>FIBR_JELUD</th>\n",
       "      <th>A_V_BLOK</th>\n",
       "      <th>OTEK_LANC</th>\n",
       "      <th>RAZRIV</th>\n",
       "      <th>DRESSLER</th>\n",
       "      <th>ZSN</th>\n",
       "      <th>REC_IM</th>\n",
       "      <th>P_IM_STEN</th>\n",
       "      <th>LET_IS</th>\n",
       "    </tr>\n",
       "  </thead>\n",
       "  <tbody>\n",
       "    <tr>\n",
       "      <th>1695</th>\n",
       "      <td>1696</td>\n",
       "      <td>77.0</td>\n",
       "      <td>0</td>\n",
       "      <td>0.0</td>\n",
       "      <td>4.0</td>\n",
       "      <td>2.0</td>\n",
       "      <td>1.0</td>\n",
       "      <td>NaN</td>\n",
       "      <td>2.0</td>\n",
       "      <td>0.0</td>\n",
       "      <td>...</td>\n",
       "      <td>0</td>\n",
       "      <td>0</td>\n",
       "      <td>1</td>\n",
       "      <td>0</td>\n",
       "      <td>1</td>\n",
       "      <td>0</td>\n",
       "      <td>0</td>\n",
       "      <td>0</td>\n",
       "      <td>0</td>\n",
       "      <td>3</td>\n",
       "    </tr>\n",
       "    <tr>\n",
       "      <th>1696</th>\n",
       "      <td>1697</td>\n",
       "      <td>70.0</td>\n",
       "      <td>0</td>\n",
       "      <td>0.0</td>\n",
       "      <td>6.0</td>\n",
       "      <td>2.0</td>\n",
       "      <td>1.0</td>\n",
       "      <td>NaN</td>\n",
       "      <td>2.0</td>\n",
       "      <td>0.0</td>\n",
       "      <td>...</td>\n",
       "      <td>0</td>\n",
       "      <td>0</td>\n",
       "      <td>0</td>\n",
       "      <td>0</td>\n",
       "      <td>0</td>\n",
       "      <td>0</td>\n",
       "      <td>0</td>\n",
       "      <td>0</td>\n",
       "      <td>0</td>\n",
       "      <td>1</td>\n",
       "    </tr>\n",
       "    <tr>\n",
       "      <th>1697</th>\n",
       "      <td>1698</td>\n",
       "      <td>55.0</td>\n",
       "      <td>1</td>\n",
       "      <td>3.0</td>\n",
       "      <td>6.0</td>\n",
       "      <td>2.0</td>\n",
       "      <td>2.0</td>\n",
       "      <td>NaN</td>\n",
       "      <td>0.0</td>\n",
       "      <td>0.0</td>\n",
       "      <td>...</td>\n",
       "      <td>0</td>\n",
       "      <td>0</td>\n",
       "      <td>0</td>\n",
       "      <td>0</td>\n",
       "      <td>0</td>\n",
       "      <td>0</td>\n",
       "      <td>0</td>\n",
       "      <td>1</td>\n",
       "      <td>0</td>\n",
       "      <td>6</td>\n",
       "    </tr>\n",
       "    <tr>\n",
       "      <th>1698</th>\n",
       "      <td>1699</td>\n",
       "      <td>79.0</td>\n",
       "      <td>0</td>\n",
       "      <td>2.0</td>\n",
       "      <td>2.0</td>\n",
       "      <td>2.0</td>\n",
       "      <td>1.0</td>\n",
       "      <td>NaN</td>\n",
       "      <td>2.0</td>\n",
       "      <td>0.0</td>\n",
       "      <td>...</td>\n",
       "      <td>0</td>\n",
       "      <td>0</td>\n",
       "      <td>0</td>\n",
       "      <td>1</td>\n",
       "      <td>0</td>\n",
       "      <td>0</td>\n",
       "      <td>0</td>\n",
       "      <td>0</td>\n",
       "      <td>0</td>\n",
       "      <td>1</td>\n",
       "    </tr>\n",
       "    <tr>\n",
       "      <th>1699</th>\n",
       "      <td>1700</td>\n",
       "      <td>63.0</td>\n",
       "      <td>1</td>\n",
       "      <td>2.0</td>\n",
       "      <td>NaN</td>\n",
       "      <td>NaN</td>\n",
       "      <td>NaN</td>\n",
       "      <td>NaN</td>\n",
       "      <td>2.0</td>\n",
       "      <td>0.0</td>\n",
       "      <td>...</td>\n",
       "      <td>0</td>\n",
       "      <td>0</td>\n",
       "      <td>0</td>\n",
       "      <td>0</td>\n",
       "      <td>0</td>\n",
       "      <td>0</td>\n",
       "      <td>0</td>\n",
       "      <td>0</td>\n",
       "      <td>0</td>\n",
       "      <td>1</td>\n",
       "    </tr>\n",
       "  </tbody>\n",
       "</table>\n",
       "<p>5 rows × 124 columns</p>\n",
       "</div>"
      ],
      "text/plain": [
       "        ID   AGE  SEX  INF_ANAM  STENOK_AN  FK_STENOK  IBS_POST  IBS_NASL  \\\n",
       "1695  1696  77.0    0       0.0        4.0        2.0       1.0       NaN   \n",
       "1696  1697  70.0    0       0.0        6.0        2.0       1.0       NaN   \n",
       "1697  1698  55.0    1       3.0        6.0        2.0       2.0       NaN   \n",
       "1698  1699  79.0    0       2.0        2.0        2.0       1.0       NaN   \n",
       "1699  1700  63.0    1       2.0        NaN        NaN       NaN       NaN   \n",
       "\n",
       "       GB  SIM_GIPERT  ...  JELUD_TAH  FIBR_JELUD  A_V_BLOK  OTEK_LANC  \\\n",
       "1695  2.0         0.0  ...          0           0         1          0   \n",
       "1696  2.0         0.0  ...          0           0         0          0   \n",
       "1697  0.0         0.0  ...          0           0         0          0   \n",
       "1698  2.0         0.0  ...          0           0         0          1   \n",
       "1699  2.0         0.0  ...          0           0         0          0   \n",
       "\n",
       "      RAZRIV  DRESSLER  ZSN  REC_IM  P_IM_STEN  LET_IS  \n",
       "1695       1         0    0       0          0       3  \n",
       "1696       0         0    0       0          0       1  \n",
       "1697       0         0    0       1          0       6  \n",
       "1698       0         0    0       0          0       1  \n",
       "1699       0         0    0       0          0       1  \n",
       "\n",
       "[5 rows x 124 columns]"
      ]
     },
     "execution_count": 5,
     "metadata": {},
     "output_type": "execute_result"
    }
   ],
   "source": [
    "data.tail()"
   ]
  },
  {
   "cell_type": "code",
   "execution_count": 6,
   "id": "8b39baed",
   "metadata": {
    "ExecuteTime": {
     "end_time": "2023-11-04T07:16:24.889717Z",
     "start_time": "2023-11-04T07:16:24.875745Z"
    }
   },
   "outputs": [
    {
     "name": "stdout",
     "output_type": "stream",
     "text": [
      "<class 'pandas.core.frame.DataFrame'>\n",
      "RangeIndex: 1700 entries, 0 to 1699\n",
      "Columns: 124 entries, ID to LET_IS\n",
      "dtypes: float64(110), int64(14)\n",
      "memory usage: 1.6 MB\n"
     ]
    }
   ],
   "source": [
    "data.info()"
   ]
  },
  {
   "cell_type": "code",
   "execution_count": 7,
   "id": "b122e9d3",
   "metadata": {
    "ExecuteTime": {
     "end_time": "2023-11-04T07:16:25.015087Z",
     "start_time": "2023-11-04T07:16:24.890748Z"
    }
   },
   "outputs": [
    {
     "data": {
      "text/html": [
       "<div>\n",
       "<style scoped>\n",
       "    .dataframe tbody tr th:only-of-type {\n",
       "        vertical-align: middle;\n",
       "    }\n",
       "\n",
       "    .dataframe tbody tr th {\n",
       "        vertical-align: top;\n",
       "    }\n",
       "\n",
       "    .dataframe thead th {\n",
       "        text-align: right;\n",
       "    }\n",
       "</style>\n",
       "<table border=\"1\" class=\"dataframe\">\n",
       "  <thead>\n",
       "    <tr style=\"text-align: right;\">\n",
       "      <th></th>\n",
       "      <th>ID</th>\n",
       "      <th>AGE</th>\n",
       "      <th>SEX</th>\n",
       "      <th>INF_ANAM</th>\n",
       "      <th>STENOK_AN</th>\n",
       "      <th>FK_STENOK</th>\n",
       "      <th>IBS_POST</th>\n",
       "      <th>IBS_NASL</th>\n",
       "      <th>GB</th>\n",
       "      <th>SIM_GIPERT</th>\n",
       "      <th>...</th>\n",
       "      <th>JELUD_TAH</th>\n",
       "      <th>FIBR_JELUD</th>\n",
       "      <th>A_V_BLOK</th>\n",
       "      <th>OTEK_LANC</th>\n",
       "      <th>RAZRIV</th>\n",
       "      <th>DRESSLER</th>\n",
       "      <th>ZSN</th>\n",
       "      <th>REC_IM</th>\n",
       "      <th>P_IM_STEN</th>\n",
       "      <th>LET_IS</th>\n",
       "    </tr>\n",
       "  </thead>\n",
       "  <tbody>\n",
       "    <tr>\n",
       "      <th>count</th>\n",
       "      <td>1700.000000</td>\n",
       "      <td>1692.000000</td>\n",
       "      <td>1700.000000</td>\n",
       "      <td>1696.000000</td>\n",
       "      <td>1594.000000</td>\n",
       "      <td>1627.000000</td>\n",
       "      <td>1649.000000</td>\n",
       "      <td>72.00000</td>\n",
       "      <td>1691.000000</td>\n",
       "      <td>1692.000000</td>\n",
       "      <td>...</td>\n",
       "      <td>1700.000000</td>\n",
       "      <td>1700.000000</td>\n",
       "      <td>1700.000000</td>\n",
       "      <td>1700.000000</td>\n",
       "      <td>1700.000000</td>\n",
       "      <td>1700.000000</td>\n",
       "      <td>1700.000000</td>\n",
       "      <td>1700.000000</td>\n",
       "      <td>1700.000000</td>\n",
       "      <td>1700.000000</td>\n",
       "    </tr>\n",
       "    <tr>\n",
       "      <th>mean</th>\n",
       "      <td>850.500000</td>\n",
       "      <td>61.856974</td>\n",
       "      <td>0.626471</td>\n",
       "      <td>0.554835</td>\n",
       "      <td>2.316186</td>\n",
       "      <td>1.205286</td>\n",
       "      <td>1.160703</td>\n",
       "      <td>0.37500</td>\n",
       "      <td>1.393258</td>\n",
       "      <td>0.033688</td>\n",
       "      <td>...</td>\n",
       "      <td>0.024706</td>\n",
       "      <td>0.041765</td>\n",
       "      <td>0.033529</td>\n",
       "      <td>0.093529</td>\n",
       "      <td>0.031765</td>\n",
       "      <td>0.044118</td>\n",
       "      <td>0.231765</td>\n",
       "      <td>0.093529</td>\n",
       "      <td>0.087059</td>\n",
       "      <td>0.477059</td>\n",
       "    </tr>\n",
       "    <tr>\n",
       "      <th>std</th>\n",
       "      <td>490.892045</td>\n",
       "      <td>11.259936</td>\n",
       "      <td>0.483883</td>\n",
       "      <td>0.836801</td>\n",
       "      <td>2.440586</td>\n",
       "      <td>1.040814</td>\n",
       "      <td>0.801400</td>\n",
       "      <td>0.48752</td>\n",
       "      <td>1.088803</td>\n",
       "      <td>0.180478</td>\n",
       "      <td>...</td>\n",
       "      <td>0.155273</td>\n",
       "      <td>0.200110</td>\n",
       "      <td>0.180067</td>\n",
       "      <td>0.291259</td>\n",
       "      <td>0.175425</td>\n",
       "      <td>0.205417</td>\n",
       "      <td>0.422084</td>\n",
       "      <td>0.291259</td>\n",
       "      <td>0.282004</td>\n",
       "      <td>1.381818</td>\n",
       "    </tr>\n",
       "    <tr>\n",
       "      <th>min</th>\n",
       "      <td>1.000000</td>\n",
       "      <td>26.000000</td>\n",
       "      <td>0.000000</td>\n",
       "      <td>0.000000</td>\n",
       "      <td>0.000000</td>\n",
       "      <td>0.000000</td>\n",
       "      <td>0.000000</td>\n",
       "      <td>0.00000</td>\n",
       "      <td>0.000000</td>\n",
       "      <td>0.000000</td>\n",
       "      <td>...</td>\n",
       "      <td>0.000000</td>\n",
       "      <td>0.000000</td>\n",
       "      <td>0.000000</td>\n",
       "      <td>0.000000</td>\n",
       "      <td>0.000000</td>\n",
       "      <td>0.000000</td>\n",
       "      <td>0.000000</td>\n",
       "      <td>0.000000</td>\n",
       "      <td>0.000000</td>\n",
       "      <td>0.000000</td>\n",
       "    </tr>\n",
       "    <tr>\n",
       "      <th>25%</th>\n",
       "      <td>425.750000</td>\n",
       "      <td>54.000000</td>\n",
       "      <td>0.000000</td>\n",
       "      <td>0.000000</td>\n",
       "      <td>0.000000</td>\n",
       "      <td>0.000000</td>\n",
       "      <td>0.000000</td>\n",
       "      <td>0.00000</td>\n",
       "      <td>0.000000</td>\n",
       "      <td>0.000000</td>\n",
       "      <td>...</td>\n",
       "      <td>0.000000</td>\n",
       "      <td>0.000000</td>\n",
       "      <td>0.000000</td>\n",
       "      <td>0.000000</td>\n",
       "      <td>0.000000</td>\n",
       "      <td>0.000000</td>\n",
       "      <td>0.000000</td>\n",
       "      <td>0.000000</td>\n",
       "      <td>0.000000</td>\n",
       "      <td>0.000000</td>\n",
       "    </tr>\n",
       "    <tr>\n",
       "      <th>50%</th>\n",
       "      <td>850.500000</td>\n",
       "      <td>63.000000</td>\n",
       "      <td>1.000000</td>\n",
       "      <td>0.000000</td>\n",
       "      <td>1.000000</td>\n",
       "      <td>2.000000</td>\n",
       "      <td>1.000000</td>\n",
       "      <td>0.00000</td>\n",
       "      <td>2.000000</td>\n",
       "      <td>0.000000</td>\n",
       "      <td>...</td>\n",
       "      <td>0.000000</td>\n",
       "      <td>0.000000</td>\n",
       "      <td>0.000000</td>\n",
       "      <td>0.000000</td>\n",
       "      <td>0.000000</td>\n",
       "      <td>0.000000</td>\n",
       "      <td>0.000000</td>\n",
       "      <td>0.000000</td>\n",
       "      <td>0.000000</td>\n",
       "      <td>0.000000</td>\n",
       "    </tr>\n",
       "    <tr>\n",
       "      <th>75%</th>\n",
       "      <td>1275.250000</td>\n",
       "      <td>70.000000</td>\n",
       "      <td>1.000000</td>\n",
       "      <td>1.000000</td>\n",
       "      <td>5.000000</td>\n",
       "      <td>2.000000</td>\n",
       "      <td>2.000000</td>\n",
       "      <td>1.00000</td>\n",
       "      <td>2.000000</td>\n",
       "      <td>0.000000</td>\n",
       "      <td>...</td>\n",
       "      <td>0.000000</td>\n",
       "      <td>0.000000</td>\n",
       "      <td>0.000000</td>\n",
       "      <td>0.000000</td>\n",
       "      <td>0.000000</td>\n",
       "      <td>0.000000</td>\n",
       "      <td>0.000000</td>\n",
       "      <td>0.000000</td>\n",
       "      <td>0.000000</td>\n",
       "      <td>0.000000</td>\n",
       "    </tr>\n",
       "    <tr>\n",
       "      <th>max</th>\n",
       "      <td>1700.000000</td>\n",
       "      <td>92.000000</td>\n",
       "      <td>1.000000</td>\n",
       "      <td>3.000000</td>\n",
       "      <td>6.000000</td>\n",
       "      <td>4.000000</td>\n",
       "      <td>2.000000</td>\n",
       "      <td>1.00000</td>\n",
       "      <td>3.000000</td>\n",
       "      <td>1.000000</td>\n",
       "      <td>...</td>\n",
       "      <td>1.000000</td>\n",
       "      <td>1.000000</td>\n",
       "      <td>1.000000</td>\n",
       "      <td>1.000000</td>\n",
       "      <td>1.000000</td>\n",
       "      <td>1.000000</td>\n",
       "      <td>1.000000</td>\n",
       "      <td>1.000000</td>\n",
       "      <td>1.000000</td>\n",
       "      <td>7.000000</td>\n",
       "    </tr>\n",
       "  </tbody>\n",
       "</table>\n",
       "<p>8 rows × 124 columns</p>\n",
       "</div>"
      ],
      "text/plain": [
       "                ID          AGE          SEX     INF_ANAM    STENOK_AN  \\\n",
       "count  1700.000000  1692.000000  1700.000000  1696.000000  1594.000000   \n",
       "mean    850.500000    61.856974     0.626471     0.554835     2.316186   \n",
       "std     490.892045    11.259936     0.483883     0.836801     2.440586   \n",
       "min       1.000000    26.000000     0.000000     0.000000     0.000000   \n",
       "25%     425.750000    54.000000     0.000000     0.000000     0.000000   \n",
       "50%     850.500000    63.000000     1.000000     0.000000     1.000000   \n",
       "75%    1275.250000    70.000000     1.000000     1.000000     5.000000   \n",
       "max    1700.000000    92.000000     1.000000     3.000000     6.000000   \n",
       "\n",
       "         FK_STENOK     IBS_POST  IBS_NASL           GB   SIM_GIPERT  ...  \\\n",
       "count  1627.000000  1649.000000  72.00000  1691.000000  1692.000000  ...   \n",
       "mean      1.205286     1.160703   0.37500     1.393258     0.033688  ...   \n",
       "std       1.040814     0.801400   0.48752     1.088803     0.180478  ...   \n",
       "min       0.000000     0.000000   0.00000     0.000000     0.000000  ...   \n",
       "25%       0.000000     0.000000   0.00000     0.000000     0.000000  ...   \n",
       "50%       2.000000     1.000000   0.00000     2.000000     0.000000  ...   \n",
       "75%       2.000000     2.000000   1.00000     2.000000     0.000000  ...   \n",
       "max       4.000000     2.000000   1.00000     3.000000     1.000000  ...   \n",
       "\n",
       "         JELUD_TAH   FIBR_JELUD     A_V_BLOK    OTEK_LANC       RAZRIV  \\\n",
       "count  1700.000000  1700.000000  1700.000000  1700.000000  1700.000000   \n",
       "mean      0.024706     0.041765     0.033529     0.093529     0.031765   \n",
       "std       0.155273     0.200110     0.180067     0.291259     0.175425   \n",
       "min       0.000000     0.000000     0.000000     0.000000     0.000000   \n",
       "25%       0.000000     0.000000     0.000000     0.000000     0.000000   \n",
       "50%       0.000000     0.000000     0.000000     0.000000     0.000000   \n",
       "75%       0.000000     0.000000     0.000000     0.000000     0.000000   \n",
       "max       1.000000     1.000000     1.000000     1.000000     1.000000   \n",
       "\n",
       "          DRESSLER          ZSN       REC_IM    P_IM_STEN       LET_IS  \n",
       "count  1700.000000  1700.000000  1700.000000  1700.000000  1700.000000  \n",
       "mean      0.044118     0.231765     0.093529     0.087059     0.477059  \n",
       "std       0.205417     0.422084     0.291259     0.282004     1.381818  \n",
       "min       0.000000     0.000000     0.000000     0.000000     0.000000  \n",
       "25%       0.000000     0.000000     0.000000     0.000000     0.000000  \n",
       "50%       0.000000     0.000000     0.000000     0.000000     0.000000  \n",
       "75%       0.000000     0.000000     0.000000     0.000000     0.000000  \n",
       "max       1.000000     1.000000     1.000000     1.000000     7.000000  \n",
       "\n",
       "[8 rows x 124 columns]"
      ]
     },
     "execution_count": 7,
     "metadata": {},
     "output_type": "execute_result"
    }
   ],
   "source": [
    "data.describe()"
   ]
  },
  {
   "cell_type": "code",
   "execution_count": 8,
   "id": "1cc932b7",
   "metadata": {
    "ExecuteTime": {
     "end_time": "2023-11-04T07:16:25.030098Z",
     "start_time": "2023-11-04T07:16:25.016084Z"
    }
   },
   "outputs": [
    {
     "data": {
      "text/plain": [
       "(1700, 124)"
      ]
     },
     "execution_count": 8,
     "metadata": {},
     "output_type": "execute_result"
    }
   ],
   "source": [
    "data.shape"
   ]
  },
  {
   "cell_type": "code",
   "execution_count": 9,
   "id": "76d43267",
   "metadata": {
    "ExecuteTime": {
     "end_time": "2023-11-04T07:16:25.045787Z",
     "start_time": "2023-11-04T07:16:25.031098Z"
    }
   },
   "outputs": [
    {
     "data": {
      "text/plain": [
       "0"
      ]
     },
     "execution_count": 9,
     "metadata": {},
     "output_type": "execute_result"
    }
   ],
   "source": [
    "data.duplicated().sum()"
   ]
  },
  {
   "cell_type": "code",
   "execution_count": 10,
   "id": "f41c69fa",
   "metadata": {
    "ExecuteTime": {
     "end_time": "2023-11-04T07:16:25.061254Z",
     "start_time": "2023-11-04T07:16:25.046737Z"
    }
   },
   "outputs": [
    {
     "data": {
      "text/plain": [
       "8"
      ]
     },
     "execution_count": 10,
     "metadata": {},
     "output_type": "execute_result"
    }
   ],
   "source": [
    "data['LET_IS'].nunique()"
   ]
  },
  {
   "cell_type": "code",
   "execution_count": 11,
   "id": "30dac5a2",
   "metadata": {
    "ExecuteTime": {
     "end_time": "2023-11-04T07:16:25.076759Z",
     "start_time": "2023-11-04T07:16:25.063251Z"
    }
   },
   "outputs": [
    {
     "data": {
      "text/plain": [
       "array([0, 2, 7, 4, 1, 5, 6, 3], dtype=int64)"
      ]
     },
     "execution_count": 11,
     "metadata": {},
     "output_type": "execute_result"
    }
   ],
   "source": [
    "data[\"LET_IS\"].unique()"
   ]
  },
  {
   "cell_type": "code",
   "execution_count": 12,
   "id": "0332dc10",
   "metadata": {
    "ExecuteTime": {
     "end_time": "2023-11-04T07:16:25.092776Z",
     "start_time": "2023-11-04T07:16:25.078752Z"
    }
   },
   "outputs": [
    {
     "data": {
      "text/plain": [
       "ID             0\n",
       "AGE            8\n",
       "SEX            0\n",
       "INF_ANAM       4\n",
       "STENOK_AN    106\n",
       "            ... \n",
       "DRESSLER       0\n",
       "ZSN            0\n",
       "REC_IM         0\n",
       "P_IM_STEN      0\n",
       "LET_IS         0\n",
       "Length: 124, dtype: int64"
      ]
     },
     "execution_count": 12,
     "metadata": {},
     "output_type": "execute_result"
    }
   ],
   "source": [
    "data.isnull().sum()"
   ]
  },
  {
   "cell_type": "code",
   "execution_count": 13,
   "id": "8f676bcc",
   "metadata": {
    "ExecuteTime": {
     "end_time": "2023-11-04T07:16:25.108239Z",
     "start_time": "2023-11-04T07:16:25.093771Z"
    }
   },
   "outputs": [
    {
     "data": {
      "text/plain": [
       "ID           0.000000\n",
       "AGE          0.470588\n",
       "SEX          0.000000\n",
       "INF_ANAM     0.235294\n",
       "STENOK_AN    6.235294\n",
       "               ...   \n",
       "DRESSLER     0.000000\n",
       "ZSN          0.000000\n",
       "REC_IM       0.000000\n",
       "P_IM_STEN    0.000000\n",
       "LET_IS       0.000000\n",
       "Length: 124, dtype: float64"
      ]
     },
     "execution_count": 13,
     "metadata": {},
     "output_type": "execute_result"
    }
   ],
   "source": [
    "null_percentage = ((data.isnull().sum())/len(data))*100\n",
    "null_percentage"
   ]
  },
  {
   "cell_type": "code",
   "execution_count": 14,
   "id": "11dc9a71",
   "metadata": {
    "ExecuteTime": {
     "end_time": "2023-11-04T07:16:25.124234Z",
     "start_time": "2023-11-04T07:16:25.109743Z"
    }
   },
   "outputs": [
    {
     "data": {
      "text/plain": [
       "IBS_NASL      95.764706\n",
       "S_AD_KBRIG    63.294118\n",
       "D_AD_KBRIG    63.294118\n",
       "GIPO_K        21.705882\n",
       "K_BLOOD       21.823529\n",
       "GIPER_NA      22.058824\n",
       "NA_BLOOD      22.058824\n",
       "KFK_BLOOD     99.764706\n",
       "NA_KB         38.647059\n",
       "NOT_NA_KB     40.352941\n",
       "LID_KB        39.823529\n",
       "dtype: float64"
      ]
     },
     "execution_count": 14,
     "metadata": {},
     "output_type": "execute_result"
    }
   ],
   "source": [
    "high_null_columns = null_percentage[null_percentage>20]\n",
    "high_null_columns"
   ]
  },
  {
   "cell_type": "code",
   "execution_count": 15,
   "id": "b35222ea",
   "metadata": {
    "ExecuteTime": {
     "end_time": "2023-11-04T07:16:25.154836Z",
     "start_time": "2023-11-04T07:16:25.125231Z"
    }
   },
   "outputs": [
    {
     "data": {
      "text/html": [
       "<div>\n",
       "<style scoped>\n",
       "    .dataframe tbody tr th:only-of-type {\n",
       "        vertical-align: middle;\n",
       "    }\n",
       "\n",
       "    .dataframe tbody tr th {\n",
       "        vertical-align: top;\n",
       "    }\n",
       "\n",
       "    .dataframe thead th {\n",
       "        text-align: right;\n",
       "    }\n",
       "</style>\n",
       "<table border=\"1\" class=\"dataframe\">\n",
       "  <thead>\n",
       "    <tr style=\"text-align: right;\">\n",
       "      <th></th>\n",
       "      <th>AGE</th>\n",
       "      <th>SEX</th>\n",
       "      <th>INF_ANAM</th>\n",
       "      <th>STENOK_AN</th>\n",
       "      <th>FK_STENOK</th>\n",
       "      <th>IBS_POST</th>\n",
       "      <th>GB</th>\n",
       "      <th>SIM_GIPERT</th>\n",
       "      <th>DLIT_AG</th>\n",
       "      <th>ZSN_A</th>\n",
       "      <th>...</th>\n",
       "      <th>JELUD_TAH</th>\n",
       "      <th>FIBR_JELUD</th>\n",
       "      <th>A_V_BLOK</th>\n",
       "      <th>OTEK_LANC</th>\n",
       "      <th>RAZRIV</th>\n",
       "      <th>DRESSLER</th>\n",
       "      <th>ZSN</th>\n",
       "      <th>REC_IM</th>\n",
       "      <th>P_IM_STEN</th>\n",
       "      <th>LET_IS</th>\n",
       "    </tr>\n",
       "  </thead>\n",
       "  <tbody>\n",
       "    <tr>\n",
       "      <th>0</th>\n",
       "      <td>77.0</td>\n",
       "      <td>1</td>\n",
       "      <td>2.0</td>\n",
       "      <td>1.0</td>\n",
       "      <td>1.0</td>\n",
       "      <td>2.0</td>\n",
       "      <td>3.0</td>\n",
       "      <td>0.0</td>\n",
       "      <td>7.0</td>\n",
       "      <td>0.0</td>\n",
       "      <td>...</td>\n",
       "      <td>0</td>\n",
       "      <td>0</td>\n",
       "      <td>0</td>\n",
       "      <td>0</td>\n",
       "      <td>0</td>\n",
       "      <td>0</td>\n",
       "      <td>0</td>\n",
       "      <td>0</td>\n",
       "      <td>0</td>\n",
       "      <td>0</td>\n",
       "    </tr>\n",
       "    <tr>\n",
       "      <th>1</th>\n",
       "      <td>55.0</td>\n",
       "      <td>1</td>\n",
       "      <td>1.0</td>\n",
       "      <td>0.0</td>\n",
       "      <td>0.0</td>\n",
       "      <td>0.0</td>\n",
       "      <td>0.0</td>\n",
       "      <td>0.0</td>\n",
       "      <td>0.0</td>\n",
       "      <td>0.0</td>\n",
       "      <td>...</td>\n",
       "      <td>0</td>\n",
       "      <td>0</td>\n",
       "      <td>0</td>\n",
       "      <td>0</td>\n",
       "      <td>0</td>\n",
       "      <td>0</td>\n",
       "      <td>0</td>\n",
       "      <td>0</td>\n",
       "      <td>0</td>\n",
       "      <td>0</td>\n",
       "    </tr>\n",
       "    <tr>\n",
       "      <th>2</th>\n",
       "      <td>52.0</td>\n",
       "      <td>1</td>\n",
       "      <td>0.0</td>\n",
       "      <td>0.0</td>\n",
       "      <td>0.0</td>\n",
       "      <td>2.0</td>\n",
       "      <td>2.0</td>\n",
       "      <td>0.0</td>\n",
       "      <td>2.0</td>\n",
       "      <td>0.0</td>\n",
       "      <td>...</td>\n",
       "      <td>0</td>\n",
       "      <td>0</td>\n",
       "      <td>0</td>\n",
       "      <td>0</td>\n",
       "      <td>0</td>\n",
       "      <td>0</td>\n",
       "      <td>0</td>\n",
       "      <td>0</td>\n",
       "      <td>0</td>\n",
       "      <td>0</td>\n",
       "    </tr>\n",
       "    <tr>\n",
       "      <th>3</th>\n",
       "      <td>68.0</td>\n",
       "      <td>0</td>\n",
       "      <td>0.0</td>\n",
       "      <td>0.0</td>\n",
       "      <td>0.0</td>\n",
       "      <td>2.0</td>\n",
       "      <td>2.0</td>\n",
       "      <td>0.0</td>\n",
       "      <td>3.0</td>\n",
       "      <td>1.0</td>\n",
       "      <td>...</td>\n",
       "      <td>0</td>\n",
       "      <td>0</td>\n",
       "      <td>0</td>\n",
       "      <td>0</td>\n",
       "      <td>0</td>\n",
       "      <td>0</td>\n",
       "      <td>1</td>\n",
       "      <td>0</td>\n",
       "      <td>0</td>\n",
       "      <td>0</td>\n",
       "    </tr>\n",
       "    <tr>\n",
       "      <th>4</th>\n",
       "      <td>60.0</td>\n",
       "      <td>1</td>\n",
       "      <td>0.0</td>\n",
       "      <td>0.0</td>\n",
       "      <td>0.0</td>\n",
       "      <td>2.0</td>\n",
       "      <td>3.0</td>\n",
       "      <td>0.0</td>\n",
       "      <td>7.0</td>\n",
       "      <td>0.0</td>\n",
       "      <td>...</td>\n",
       "      <td>0</td>\n",
       "      <td>0</td>\n",
       "      <td>0</td>\n",
       "      <td>0</td>\n",
       "      <td>0</td>\n",
       "      <td>0</td>\n",
       "      <td>0</td>\n",
       "      <td>0</td>\n",
       "      <td>0</td>\n",
       "      <td>0</td>\n",
       "    </tr>\n",
       "    <tr>\n",
       "      <th>...</th>\n",
       "      <td>...</td>\n",
       "      <td>...</td>\n",
       "      <td>...</td>\n",
       "      <td>...</td>\n",
       "      <td>...</td>\n",
       "      <td>...</td>\n",
       "      <td>...</td>\n",
       "      <td>...</td>\n",
       "      <td>...</td>\n",
       "      <td>...</td>\n",
       "      <td>...</td>\n",
       "      <td>...</td>\n",
       "      <td>...</td>\n",
       "      <td>...</td>\n",
       "      <td>...</td>\n",
       "      <td>...</td>\n",
       "      <td>...</td>\n",
       "      <td>...</td>\n",
       "      <td>...</td>\n",
       "      <td>...</td>\n",
       "      <td>...</td>\n",
       "    </tr>\n",
       "    <tr>\n",
       "      <th>1695</th>\n",
       "      <td>77.0</td>\n",
       "      <td>0</td>\n",
       "      <td>0.0</td>\n",
       "      <td>4.0</td>\n",
       "      <td>2.0</td>\n",
       "      <td>1.0</td>\n",
       "      <td>2.0</td>\n",
       "      <td>0.0</td>\n",
       "      <td>7.0</td>\n",
       "      <td>0.0</td>\n",
       "      <td>...</td>\n",
       "      <td>0</td>\n",
       "      <td>0</td>\n",
       "      <td>1</td>\n",
       "      <td>0</td>\n",
       "      <td>1</td>\n",
       "      <td>0</td>\n",
       "      <td>0</td>\n",
       "      <td>0</td>\n",
       "      <td>0</td>\n",
       "      <td>3</td>\n",
       "    </tr>\n",
       "    <tr>\n",
       "      <th>1696</th>\n",
       "      <td>70.0</td>\n",
       "      <td>0</td>\n",
       "      <td>0.0</td>\n",
       "      <td>6.0</td>\n",
       "      <td>2.0</td>\n",
       "      <td>1.0</td>\n",
       "      <td>2.0</td>\n",
       "      <td>0.0</td>\n",
       "      <td>7.0</td>\n",
       "      <td>0.0</td>\n",
       "      <td>...</td>\n",
       "      <td>0</td>\n",
       "      <td>0</td>\n",
       "      <td>0</td>\n",
       "      <td>0</td>\n",
       "      <td>0</td>\n",
       "      <td>0</td>\n",
       "      <td>0</td>\n",
       "      <td>0</td>\n",
       "      <td>0</td>\n",
       "      <td>1</td>\n",
       "    </tr>\n",
       "    <tr>\n",
       "      <th>1697</th>\n",
       "      <td>55.0</td>\n",
       "      <td>1</td>\n",
       "      <td>3.0</td>\n",
       "      <td>6.0</td>\n",
       "      <td>2.0</td>\n",
       "      <td>2.0</td>\n",
       "      <td>0.0</td>\n",
       "      <td>0.0</td>\n",
       "      <td>0.0</td>\n",
       "      <td>0.0</td>\n",
       "      <td>...</td>\n",
       "      <td>0</td>\n",
       "      <td>0</td>\n",
       "      <td>0</td>\n",
       "      <td>0</td>\n",
       "      <td>0</td>\n",
       "      <td>0</td>\n",
       "      <td>0</td>\n",
       "      <td>1</td>\n",
       "      <td>0</td>\n",
       "      <td>6</td>\n",
       "    </tr>\n",
       "    <tr>\n",
       "      <th>1698</th>\n",
       "      <td>79.0</td>\n",
       "      <td>0</td>\n",
       "      <td>2.0</td>\n",
       "      <td>2.0</td>\n",
       "      <td>2.0</td>\n",
       "      <td>1.0</td>\n",
       "      <td>2.0</td>\n",
       "      <td>0.0</td>\n",
       "      <td>7.0</td>\n",
       "      <td>NaN</td>\n",
       "      <td>...</td>\n",
       "      <td>0</td>\n",
       "      <td>0</td>\n",
       "      <td>0</td>\n",
       "      <td>1</td>\n",
       "      <td>0</td>\n",
       "      <td>0</td>\n",
       "      <td>0</td>\n",
       "      <td>0</td>\n",
       "      <td>0</td>\n",
       "      <td>1</td>\n",
       "    </tr>\n",
       "    <tr>\n",
       "      <th>1699</th>\n",
       "      <td>63.0</td>\n",
       "      <td>1</td>\n",
       "      <td>2.0</td>\n",
       "      <td>NaN</td>\n",
       "      <td>NaN</td>\n",
       "      <td>NaN</td>\n",
       "      <td>2.0</td>\n",
       "      <td>0.0</td>\n",
       "      <td>NaN</td>\n",
       "      <td>4.0</td>\n",
       "      <td>...</td>\n",
       "      <td>0</td>\n",
       "      <td>0</td>\n",
       "      <td>0</td>\n",
       "      <td>0</td>\n",
       "      <td>0</td>\n",
       "      <td>0</td>\n",
       "      <td>0</td>\n",
       "      <td>0</td>\n",
       "      <td>0</td>\n",
       "      <td>1</td>\n",
       "    </tr>\n",
       "  </tbody>\n",
       "</table>\n",
       "<p>1700 rows × 112 columns</p>\n",
       "</div>"
      ],
      "text/plain": [
       "       AGE  SEX  INF_ANAM  STENOK_AN  FK_STENOK  IBS_POST   GB  SIM_GIPERT  \\\n",
       "0     77.0    1       2.0        1.0        1.0       2.0  3.0         0.0   \n",
       "1     55.0    1       1.0        0.0        0.0       0.0  0.0         0.0   \n",
       "2     52.0    1       0.0        0.0        0.0       2.0  2.0         0.0   \n",
       "3     68.0    0       0.0        0.0        0.0       2.0  2.0         0.0   \n",
       "4     60.0    1       0.0        0.0        0.0       2.0  3.0         0.0   \n",
       "...    ...  ...       ...        ...        ...       ...  ...         ...   \n",
       "1695  77.0    0       0.0        4.0        2.0       1.0  2.0         0.0   \n",
       "1696  70.0    0       0.0        6.0        2.0       1.0  2.0         0.0   \n",
       "1697  55.0    1       3.0        6.0        2.0       2.0  0.0         0.0   \n",
       "1698  79.0    0       2.0        2.0        2.0       1.0  2.0         0.0   \n",
       "1699  63.0    1       2.0        NaN        NaN       NaN  2.0         0.0   \n",
       "\n",
       "      DLIT_AG  ZSN_A  ...  JELUD_TAH  FIBR_JELUD  A_V_BLOK  OTEK_LANC  RAZRIV  \\\n",
       "0         7.0    0.0  ...          0           0         0          0       0   \n",
       "1         0.0    0.0  ...          0           0         0          0       0   \n",
       "2         2.0    0.0  ...          0           0         0          0       0   \n",
       "3         3.0    1.0  ...          0           0         0          0       0   \n",
       "4         7.0    0.0  ...          0           0         0          0       0   \n",
       "...       ...    ...  ...        ...         ...       ...        ...     ...   \n",
       "1695      7.0    0.0  ...          0           0         1          0       1   \n",
       "1696      7.0    0.0  ...          0           0         0          0       0   \n",
       "1697      0.0    0.0  ...          0           0         0          0       0   \n",
       "1698      7.0    NaN  ...          0           0         0          1       0   \n",
       "1699      NaN    4.0  ...          0           0         0          0       0   \n",
       "\n",
       "      DRESSLER  ZSN  REC_IM  P_IM_STEN  LET_IS  \n",
       "0            0    0       0          0       0  \n",
       "1            0    0       0          0       0  \n",
       "2            0    0       0          0       0  \n",
       "3            0    1       0          0       0  \n",
       "4            0    0       0          0       0  \n",
       "...        ...  ...     ...        ...     ...  \n",
       "1695         0    0       0          0       3  \n",
       "1696         0    0       0          0       1  \n",
       "1697         0    0       1          0       6  \n",
       "1698         0    0       0          0       1  \n",
       "1699         0    0       0          0       1  \n",
       "\n",
       "[1700 rows x 112 columns]"
      ]
     },
     "execution_count": 15,
     "metadata": {},
     "output_type": "execute_result"
    }
   ],
   "source": [
    "data2 = data.drop(['ID','IBS_NASL','S_AD_KBRIG','GIPO_K','D_AD_KBRIG','K_BLOOD','GIPER_NA','NA_BLOOD','KFK_BLOOD','NA_KB','NOT_NA_KB','LID_KB'], axis =1)\n",
    "data2"
   ]
  },
  {
   "cell_type": "code",
   "execution_count": 16,
   "id": "419cab3b",
   "metadata": {
    "ExecuteTime": {
     "end_time": "2023-11-04T07:16:25.201568Z",
     "start_time": "2023-11-04T07:16:25.155828Z"
    }
   },
   "outputs": [],
   "source": [
    "data3 = data2.fillna(data2.median())"
   ]
  },
  {
   "cell_type": "code",
   "execution_count": 17,
   "id": "1117d0de",
   "metadata": {
    "ExecuteTime": {
     "end_time": "2023-11-04T07:16:25.217462Z",
     "start_time": "2023-11-04T07:16:25.202566Z"
    }
   },
   "outputs": [
    {
     "data": {
      "text/plain": [
       "AGE          0\n",
       "SEX          0\n",
       "INF_ANAM     0\n",
       "STENOK_AN    0\n",
       "FK_STENOK    0\n",
       "            ..\n",
       "DRESSLER     0\n",
       "ZSN          0\n",
       "REC_IM       0\n",
       "P_IM_STEN    0\n",
       "LET_IS       0\n",
       "Length: 112, dtype: int64"
      ]
     },
     "execution_count": 17,
     "metadata": {},
     "output_type": "execute_result"
    }
   ],
   "source": [
    "data3.isnull().sum()"
   ]
  },
  {
   "cell_type": "code",
   "execution_count": 18,
   "id": "076658de",
   "metadata": {
    "ExecuteTime": {
     "end_time": "2023-11-04T07:16:25.233571Z",
     "start_time": "2023-11-04T07:16:25.218455Z"
    }
   },
   "outputs": [
    {
     "data": {
      "text/plain": [
       "(1700, 124)"
      ]
     },
     "execution_count": 18,
     "metadata": {},
     "output_type": "execute_result"
    }
   ],
   "source": [
    "data.shape"
   ]
  },
  {
   "cell_type": "code",
   "execution_count": 19,
   "id": "ab1c5ee1",
   "metadata": {
    "ExecuteTime": {
     "end_time": "2023-11-04T07:16:26.637319Z",
     "start_time": "2023-11-04T07:16:25.234563Z"
    }
   },
   "outputs": [
    {
     "data": {
      "image/png": "[encoded data removed]",
      "text/plain": [
       "<Figure size 3888x2160 with 1 Axes>"
      ]
     },
     "metadata": {
      "needs_background": "light"
     },
     "output_type": "display_data"
    }
   ],
   "source": [
    "plt.figure(figsize=(54, 30))\n",
    "sns.boxplot(data=data3)\n",
    "plt.xticks(rotation=90)\n",
    "plt.title('Box Plot')\n",
    "plt.show()"
   ]
  },
  {
   "cell_type": "code",
   "execution_count": 20,
   "id": "c4b5ab02",
   "metadata": {
    "ExecuteTime": {
     "end_time": "2023-11-04T07:16:26.653339Z",
     "start_time": "2023-11-04T07:16:26.638311Z"
    }
   },
   "outputs": [],
   "source": [
    "from scipy import stats\n",
    "import numpy as np"
   ]
  },
  {
   "cell_type": "code",
   "execution_count": 21,
   "id": "7e388096",
   "metadata": {
    "ExecuteTime": {
     "end_time": "2023-11-04T07:16:26.669903Z",
     "start_time": "2023-11-04T07:16:26.654333Z"
    }
   },
   "outputs": [],
   "source": [
    "#z-score outlier elimination\n",
    "z = np.abs(stats.zscore(data3[\"ROE\"]))"
   ]
  },
  {
   "cell_type": "code",
   "execution_count": 22,
   "id": "2f5f16ef",
   "metadata": {
    "ExecuteTime": {
     "end_time": "2023-11-04T07:16:26.685071Z",
     "start_time": "2023-11-04T07:16:26.670903Z"
    }
   },
   "outputs": [],
   "source": [
    " n = np.where(z>2)"
   ]
  },
  {
   "cell_type": "code",
   "execution_count": 23,
   "id": "0bc92762",
   "metadata": {
    "ExecuteTime": {
     "end_time": "2023-11-04T07:16:26.700627Z",
     "start_time": "2023-11-04T07:16:26.686069Z"
    }
   },
   "outputs": [
    {
     "data": {
      "text/plain": [
       "(1699, 112)"
      ]
     },
     "execution_count": 23,
     "metadata": {},
     "output_type": "execute_result"
    }
   ],
   "source": [
    "data4 = data3.drop(n[0][x] for x in range(0, len(n)))\n",
    "data4.shape"
   ]
  },
  {
   "cell_type": "code",
   "execution_count": 24,
   "id": "d309e2e4",
   "metadata": {
    "ExecuteTime": {
     "end_time": "2023-11-04T07:16:26.716103Z",
     "start_time": "2023-11-04T07:16:26.701621Z"
    }
   },
   "outputs": [],
   "source": [
    "z2 = np.abs(stats.zscore(data4[\"S_AD_ORIT\"]))"
   ]
  },
  {
   "cell_type": "code",
   "execution_count": 25,
   "id": "1c240aae",
   "metadata": {
    "ExecuteTime": {
     "end_time": "2023-11-04T07:16:26.731328Z",
     "start_time": "2023-11-04T07:16:26.717096Z"
    }
   },
   "outputs": [],
   "source": [
    "n2 = np.where(z2>2)"
   ]
  },
  {
   "cell_type": "code",
   "execution_count": 26,
   "id": "5c52024b",
   "metadata": {
    "ExecuteTime": {
     "end_time": "2023-11-04T07:16:26.746825Z",
     "start_time": "2023-11-04T07:16:26.732324Z"
    }
   },
   "outputs": [
    {
     "data": {
      "text/plain": [
       "(1698, 112)"
      ]
     },
     "execution_count": 26,
     "metadata": {},
     "output_type": "execute_result"
    }
   ],
   "source": [
    "data5 = data4.drop(n2[0][x] for x in range(0, len(n2)))\n",
    "data5.shape"
   ]
  },
  {
   "cell_type": "code",
   "execution_count": 27,
   "id": "6831a465",
   "metadata": {
    "ExecuteTime": {
     "end_time": "2023-11-04T07:16:28.176065Z",
     "start_time": "2023-11-04T07:16:26.747817Z"
    }
   },
   "outputs": [
    {
     "data": {
      "text/plain": [
       "Text(0.5, 1.0, 'Box Plot')"
      ]
     },
     "execution_count": 27,
     "metadata": {},
     "output_type": "execute_result"
    },
    {
     "data": {
      "image/png": "[encoded data removed]",
      "text/plain": [
       "<Figure size 3888x2160 with 1 Axes>"
      ]
     },
     "metadata": {
      "needs_background": "light"
     },
     "output_type": "display_data"
    }
   ],
   "source": [
    "plt.figure(figsize=(54, 30))\n",
    "sns.boxplot(data=data5)\n",
    "plt.xticks(rotation=90)\n",
    "plt.title('Box Plot')\n"
   ]
  },
  {
   "cell_type": "code",
   "execution_count": 28,
   "id": "6ad224ce",
   "metadata": {
    "ExecuteTime": {
     "end_time": "2023-11-04T07:16:28.425653Z",
     "start_time": "2023-11-04T07:16:28.177062Z"
    }
   },
   "outputs": [],
   "source": [
    "\n",
    "from sklearn.decomposition import PCA"
   ]
  },
  {
   "cell_type": "code",
   "execution_count": 107,
   "id": "b89872dd",
   "metadata": {
    "ExecuteTime": {
     "end_time": "2023-11-04T09:59:34.165846Z",
     "start_time": "2023-11-04T09:59:34.140817Z"
    }
   },
   "outputs": [],
   "source": [
    "pca = PCA(n_components=8)\n",
    "pca_data = pca.fit_transform(data5)"
   ]
  },
  {
   "cell_type": "code",
   "execution_count": 108,
   "id": "652c11d3",
   "metadata": {
    "ExecuteTime": {
     "end_time": "2023-11-04T09:59:34.412766Z",
     "start_time": "2023-11-04T09:59:34.402293Z"
    }
   },
   "outputs": [],
   "source": [
    "pca_df = pd.DataFrame(pca_data)"
   ]
  },
  {
   "cell_type": "code",
   "execution_count": 109,
   "id": "3591e719",
   "metadata": {
    "ExecuteTime": {
     "end_time": "2023-11-04T09:59:34.907378Z",
     "start_time": "2023-11-04T09:59:34.894188Z"
    }
   },
   "outputs": [
    {
     "data": {
      "text/html": [
       "<div>\n",
       "<style scoped>\n",
       "    .dataframe tbody tr th:only-of-type {\n",
       "        vertical-align: middle;\n",
       "    }\n",
       "\n",
       "    .dataframe tbody tr th {\n",
       "        vertical-align: top;\n",
       "    }\n",
       "\n",
       "    .dataframe thead th {\n",
       "        text-align: right;\n",
       "    }\n",
       "</style>\n",
       "<table border=\"1\" class=\"dataframe\">\n",
       "  <thead>\n",
       "    <tr style=\"text-align: right;\">\n",
       "      <th></th>\n",
       "      <th>0</th>\n",
       "      <th>1</th>\n",
       "      <th>2</th>\n",
       "      <th>3</th>\n",
       "      <th>4</th>\n",
       "      <th>5</th>\n",
       "      <th>6</th>\n",
       "      <th>7</th>\n",
       "    </tr>\n",
       "  </thead>\n",
       "  <tbody>\n",
       "    <tr>\n",
       "      <th>0</th>\n",
       "      <td>-49.305801</td>\n",
       "      <td>14.137329</td>\n",
       "      <td>-7.119349</td>\n",
       "      <td>-3.479173</td>\n",
       "      <td>0.058752</td>\n",
       "      <td>0.785680</td>\n",
       "      <td>-0.510325</td>\n",
       "      <td>-2.406006</td>\n",
       "    </tr>\n",
       "    <tr>\n",
       "      <th>1</th>\n",
       "      <td>8.822994</td>\n",
       "      <td>-13.382877</td>\n",
       "      <td>-2.513092</td>\n",
       "      <td>12.029158</td>\n",
       "      <td>-0.181715</td>\n",
       "      <td>-2.390284</td>\n",
       "      <td>-3.573256</td>\n",
       "      <td>-0.974937</td>\n",
       "    </tr>\n",
       "    <tr>\n",
       "      <th>2</th>\n",
       "      <td>-48.791429</td>\n",
       "      <td>-9.837704</td>\n",
       "      <td>1.880019</td>\n",
       "      <td>-8.208006</td>\n",
       "      <td>3.057524</td>\n",
       "      <td>-2.173528</td>\n",
       "      <td>-2.105768</td>\n",
       "      <td>-0.915609</td>\n",
       "    </tr>\n",
       "    <tr>\n",
       "      <th>3</th>\n",
       "      <td>17.998888</td>\n",
       "      <td>4.099862</td>\n",
       "      <td>-6.341373</td>\n",
       "      <td>-2.897232</td>\n",
       "      <td>-0.519776</td>\n",
       "      <td>-0.613647</td>\n",
       "      <td>-2.567099</td>\n",
       "      <td>-2.382828</td>\n",
       "    </tr>\n",
       "    <tr>\n",
       "      <th>4</th>\n",
       "      <td>-26.750838</td>\n",
       "      <td>-2.759354</td>\n",
       "      <td>-2.285303</td>\n",
       "      <td>-5.811303</td>\n",
       "      <td>-0.750831</td>\n",
       "      <td>0.462849</td>\n",
       "      <td>4.677606</td>\n",
       "      <td>-3.950808</td>\n",
       "    </tr>\n",
       "  </tbody>\n",
       "</table>\n",
       "</div>"
      ],
      "text/plain": [
       "           0          1         2          3         4         5         6  \\\n",
       "0 -49.305801  14.137329 -7.119349  -3.479173  0.058752  0.785680 -0.510325   \n",
       "1   8.822994 -13.382877 -2.513092  12.029158 -0.181715 -2.390284 -3.573256   \n",
       "2 -48.791429  -9.837704  1.880019  -8.208006  3.057524 -2.173528 -2.105768   \n",
       "3  17.998888   4.099862 -6.341373  -2.897232 -0.519776 -0.613647 -2.567099   \n",
       "4 -26.750838  -2.759354 -2.285303  -5.811303 -0.750831  0.462849  4.677606   \n",
       "\n",
       "          7  \n",
       "0 -2.406006  \n",
       "1 -0.974937  \n",
       "2 -0.915609  \n",
       "3 -2.382828  \n",
       "4 -3.950808  "
      ]
     },
     "execution_count": 109,
     "metadata": {},
     "output_type": "execute_result"
    }
   ],
   "source": [
    "pca_df.head()"
   ]
  },
  {
   "cell_type": "markdown",
   "id": "60e04bcf",
   "metadata": {},
   "source": [
    "# x & y test train split\n"
   ]
  },
  {
   "cell_type": "code",
   "execution_count": 110,
   "id": "69657064",
   "metadata": {
    "ExecuteTime": {
     "end_time": "2023-11-04T09:59:36.939209Z",
     "start_time": "2023-11-04T09:59:36.937103Z"
    }
   },
   "outputs": [],
   "source": [
    "x = pca_df.iloc[:,:]"
   ]
  },
  {
   "cell_type": "code",
   "execution_count": 111,
   "id": "70d78530",
   "metadata": {
    "ExecuteTime": {
     "end_time": "2023-11-04T09:59:37.171458Z",
     "start_time": "2023-11-04T09:59:37.162971Z"
    }
   },
   "outputs": [],
   "source": [
    "Y = data5[\"LET_IS\"]"
   ]
  },
  {
   "cell_type": "code",
   "execution_count": 112,
   "id": "5f28b80d",
   "metadata": {
    "ExecuteTime": {
     "end_time": "2023-11-04T09:59:37.359094Z",
     "start_time": "2023-11-04T09:59:37.351278Z"
    }
   },
   "outputs": [],
   "source": [
    "from sklearn.model_selection import train_test_split\n",
    "X_train,X_test,Y_train,Y_test = train_test_split(x, Y, test_size = 0.3, random_state = 42)"
   ]
  },
  {
   "cell_type": "markdown",
   "id": "aab3a3b7",
   "metadata": {
    "ExecuteTime": {
     "end_time": "2023-11-03T17:24:50.979876Z",
     "start_time": "2023-11-03T17:24:50.932642Z"
    }
   },
   "source": [
    "# LOGISITIC REGRESSION MODEL"
   ]
  },
  {
   "cell_type": "code",
   "execution_count": 113,
   "id": "61b23c99",
   "metadata": {
    "ExecuteTime": {
     "end_time": "2023-11-04T09:59:37.778951Z",
     "start_time": "2023-11-04T09:59:37.767401Z"
    }
   },
   "outputs": [],
   "source": [
    "from sklearn.linear_model import LogisticRegression\n",
    "logistic_model =  LogisticRegression()"
   ]
  },
  {
   "cell_type": "code",
   "execution_count": 114,
   "id": "191f76f1",
   "metadata": {
    "ExecuteTime": {
     "end_time": "2023-11-04T09:59:38.042867Z",
     "start_time": "2023-11-04T09:59:37.993814Z"
    }
   },
   "outputs": [
    {
     "data": {
      "text/plain": [
       "LogisticRegression()"
      ]
     },
     "execution_count": 114,
     "metadata": {},
     "output_type": "execute_result"
    }
   ],
   "source": [
    "import warnings\n",
    "warnings.filterwarnings(\"ignore\")\n",
    "logistic_model.fit(X_train,Y_train)"
   ]
  },
  {
   "cell_type": "code",
   "execution_count": 115,
   "id": "2f7d6210",
   "metadata": {
    "ExecuteTime": {
     "end_time": "2023-11-04T09:59:38.198549Z",
     "start_time": "2023-11-04T09:59:38.183018Z"
    }
   },
   "outputs": [
    {
     "data": {
      "text/plain": [
       "array([0, 0, 0, ..., 1, 0, 1], dtype=int64)"
      ]
     },
     "execution_count": 115,
     "metadata": {},
     "output_type": "execute_result"
    }
   ],
   "source": [
    "logistic_model.predict(x)"
   ]
  },
  {
   "cell_type": "code",
   "execution_count": 116,
   "id": "140b023e",
   "metadata": {
    "ExecuteTime": {
     "end_time": "2023-11-04T09:59:38.384518Z",
     "start_time": "2023-11-04T09:59:38.371346Z"
    }
   },
   "outputs": [
    {
     "data": {
      "text/plain": [
       "0.8588235294117647"
      ]
     },
     "execution_count": 116,
     "metadata": {},
     "output_type": "execute_result"
    }
   ],
   "source": [
    "logistic_model.score(X_test,Y_test)"
   ]
  },
  {
   "cell_type": "markdown",
   "id": "90c0e3ee",
   "metadata": {},
   "source": [
    "# DECISION TREE CLASSIFIER"
   ]
  },
  {
   "cell_type": "code",
   "execution_count": 117,
   "id": "cb8af749",
   "metadata": {
    "ExecuteTime": {
     "end_time": "2023-11-04T09:59:38.801229Z",
     "start_time": "2023-11-04T09:59:38.787548Z"
    }
   },
   "outputs": [],
   "source": [
    "from sklearn import tree\n",
    "dt_model = tree.DecisionTreeClassifier(criterion='entropy', max_depth=3)"
   ]
  },
  {
   "cell_type": "code",
   "execution_count": 118,
   "id": "3b050771",
   "metadata": {
    "ExecuteTime": {
     "end_time": "2023-11-04T09:59:39.188536Z",
     "start_time": "2023-11-04T09:59:39.165459Z"
    }
   },
   "outputs": [
    {
     "data": {
      "text/plain": [
       "DecisionTreeClassifier(criterion='entropy', max_depth=3)"
      ]
     },
     "execution_count": 118,
     "metadata": {},
     "output_type": "execute_result"
    }
   ],
   "source": [
    "dt_model.fit(X_train,Y_train)"
   ]
  },
  {
   "cell_type": "code",
   "execution_count": 119,
   "id": "874bbb86",
   "metadata": {
    "ExecuteTime": {
     "end_time": "2023-11-04T09:59:39.373838Z",
     "start_time": "2023-11-04T09:59:39.354788Z"
    }
   },
   "outputs": [
    {
     "data": {
      "text/plain": [
       "array([0, 0, 0, ..., 0, 0, 1], dtype=int64)"
      ]
     },
     "execution_count": 119,
     "metadata": {},
     "output_type": "execute_result"
    }
   ],
   "source": [
    "dt_model.predict(x)"
   ]
  },
  {
   "cell_type": "code",
   "execution_count": 120,
   "id": "8e0ecdbd",
   "metadata": {
    "ExecuteTime": {
     "end_time": "2023-11-04T09:59:39.559721Z",
     "start_time": "2023-11-04T09:59:39.543300Z"
    }
   },
   "outputs": [
    {
     "data": {
      "text/plain": [
       "0.8647058823529412"
      ]
     },
     "execution_count": 120,
     "metadata": {},
     "output_type": "execute_result"
    }
   ],
   "source": [
    "dt_model.score(X_test,Y_test)"
   ]
  },
  {
   "cell_type": "markdown",
   "id": "275960bd",
   "metadata": {},
   "source": [
    "# RANDOM FOREST CLASSIFIER"
   ]
  },
  {
   "cell_type": "code",
   "execution_count": 121,
   "id": "bafdbf97",
   "metadata": {
    "ExecuteTime": {
     "end_time": "2023-11-04T09:59:39.965060Z",
     "start_time": "2023-11-04T09:59:39.959078Z"
    }
   },
   "outputs": [],
   "source": [
    "from sklearn.ensemble import RandomForestClassifier\n",
    "rf_model = RandomForestClassifier()"
   ]
  },
  {
   "cell_type": "code",
   "execution_count": 122,
   "id": "ad04a506",
   "metadata": {
    "ExecuteTime": {
     "end_time": "2023-11-04T09:59:40.341720Z",
     "start_time": "2023-11-04T09:59:40.149290Z"
    }
   },
   "outputs": [
    {
     "data": {
      "text/plain": [
       "RandomForestClassifier()"
      ]
     },
     "execution_count": 122,
     "metadata": {},
     "output_type": "execute_result"
    }
   ],
   "source": [
    "rf_model.fit(X_train,Y_train)"
   ]
  },
  {
   "cell_type": "code",
   "execution_count": 123,
   "id": "f686a0ef",
   "metadata": {
    "ExecuteTime": {
     "end_time": "2023-11-04T09:59:40.373415Z",
     "start_time": "2023-11-04T09:59:40.342719Z"
    }
   },
   "outputs": [
    {
     "data": {
      "text/plain": [
       "array([0, 0, 0, ..., 6, 0, 1], dtype=int64)"
      ]
     },
     "execution_count": 123,
     "metadata": {},
     "output_type": "execute_result"
    }
   ],
   "source": [
    "rf_model.predict(x)"
   ]
  },
  {
   "cell_type": "code",
   "execution_count": 124,
   "id": "a95dd503",
   "metadata": {
    "ExecuteTime": {
     "end_time": "2023-11-04T09:59:40.591493Z",
     "start_time": "2023-11-04T09:59:40.564459Z"
    }
   },
   "outputs": [
    {
     "data": {
      "text/plain": [
       "0.8647058823529412"
      ]
     },
     "execution_count": 124,
     "metadata": {},
     "output_type": "execute_result"
    }
   ],
   "source": [
    "rf_model.score(X_test,Y_test)"
   ]
  },
  {
   "cell_type": "markdown",
   "id": "6a36e7ed",
   "metadata": {},
   "source": [
    "# SUPPORT VECTOR MACHINE MODEL"
   ]
  },
  {
   "cell_type": "code",
   "execution_count": 125,
   "id": "7ab56d90",
   "metadata": {
    "ExecuteTime": {
     "end_time": "2023-11-04T09:59:41.026807Z",
     "start_time": "2023-11-04T09:59:41.018840Z"
    }
   },
   "outputs": [],
   "source": [
    "from sklearn.svm import SVC\n",
    "svm_model = SVC()"
   ]
  },
  {
   "cell_type": "code",
   "execution_count": 126,
   "id": "82d4e031",
   "metadata": {
    "ExecuteTime": {
     "end_time": "2023-11-04T09:59:41.290075Z",
     "start_time": "2023-11-04T09:59:41.244620Z"
    }
   },
   "outputs": [
    {
     "data": {
      "text/plain": [
       "SVC()"
      ]
     },
     "execution_count": 126,
     "metadata": {},
     "output_type": "execute_result"
    }
   ],
   "source": [
    "svm_model.fit(X_train,Y_train)"
   ]
  },
  {
   "cell_type": "code",
   "execution_count": 127,
   "id": "e0aea502",
   "metadata": {
    "ExecuteTime": {
     "end_time": "2023-11-04T09:59:41.510155Z",
     "start_time": "2023-11-04T09:59:41.435628Z"
    }
   },
   "outputs": [
    {
     "data": {
      "text/plain": [
       "array([0, 0, 0, ..., 1, 0, 1], dtype=int64)"
      ]
     },
     "execution_count": 127,
     "metadata": {},
     "output_type": "execute_result"
    }
   ],
   "source": [
    "svm_model.predict(x)"
   ]
  },
  {
   "cell_type": "code",
   "execution_count": 128,
   "id": "176aafa6",
   "metadata": {
    "ExecuteTime": {
     "end_time": "2023-11-04T09:59:41.696892Z",
     "start_time": "2023-11-04T09:59:41.661816Z"
    }
   },
   "outputs": [
    {
     "data": {
      "text/plain": [
       "0.8647058823529412"
      ]
     },
     "execution_count": 128,
     "metadata": {},
     "output_type": "execute_result"
    }
   ],
   "source": [
    "svm_model.score(X_test,Y_test)"
   ]
  },
  {
   "cell_type": "markdown",
   "id": "228afcc4",
   "metadata": {},
   "source": [
    "# NAIVE BAYES"
   ]
  },
  {
   "cell_type": "code",
   "execution_count": 129,
   "id": "6e212a06",
   "metadata": {
    "ExecuteTime": {
     "end_time": "2023-11-04T09:59:42.460605Z",
     "start_time": "2023-11-04T09:59:42.457605Z"
    }
   },
   "outputs": [],
   "source": [
    "from sklearn.naive_bayes import GaussianNB\n",
    "nb_model = GaussianNB()"
   ]
  },
  {
   "cell_type": "code",
   "execution_count": 130,
   "id": "c70bd3d7",
   "metadata": {
    "ExecuteTime": {
     "end_time": "2023-11-04T09:59:42.694050Z",
     "start_time": "2023-11-04T09:59:42.683410Z"
    }
   },
   "outputs": [
    {
     "data": {
      "text/plain": [
       "GaussianNB()"
      ]
     },
     "execution_count": 130,
     "metadata": {},
     "output_type": "execute_result"
    }
   ],
   "source": [
    "nb_model.fit(X_train,Y_train)"
   ]
  },
  {
   "cell_type": "code",
   "execution_count": 131,
   "id": "e3644850",
   "metadata": {
    "ExecuteTime": {
     "end_time": "2023-11-04T09:59:42.878385Z",
     "start_time": "2023-11-04T09:59:42.871879Z"
    }
   },
   "outputs": [
    {
     "data": {
      "text/plain": [
       "array([0, 0, 0, ..., 1, 0, 1], dtype=int64)"
      ]
     },
     "execution_count": 131,
     "metadata": {},
     "output_type": "execute_result"
    }
   ],
   "source": [
    "nb_model.predict(x)"
   ]
  },
  {
   "cell_type": "code",
   "execution_count": 132,
   "id": "da038386",
   "metadata": {
    "ExecuteTime": {
     "end_time": "2023-11-04T09:59:43.113767Z",
     "start_time": "2023-11-04T09:59:43.098273Z"
    }
   },
   "outputs": [
    {
     "data": {
      "text/plain": [
       "0.8352941176470589"
      ]
     },
     "execution_count": 132,
     "metadata": {},
     "output_type": "execute_result"
    }
   ],
   "source": [
    "nb_model.score(X_test,Y_test)"
   ]
  },
  {
   "cell_type": "markdown",
   "id": "6c6ade05",
   "metadata": {},
   "source": [
    "# K-NEAREST NEIGHBOUR CLASSIFIER"
   ]
  },
  {
   "cell_type": "code",
   "execution_count": 133,
   "id": "4b9d2b01",
   "metadata": {
    "ExecuteTime": {
     "end_time": "2023-11-04T09:59:43.750358Z",
     "start_time": "2023-11-04T09:59:43.741872Z"
    }
   },
   "outputs": [],
   "source": [
    "from sklearn.neighbors import KNeighborsClassifier\n",
    "knn_model = KNeighborsClassifier()"
   ]
  },
  {
   "cell_type": "code",
   "execution_count": 134,
   "id": "2dcec645",
   "metadata": {
    "ExecuteTime": {
     "end_time": "2023-11-04T09:59:43.985599Z",
     "start_time": "2023-11-04T09:59:43.968178Z"
    }
   },
   "outputs": [
    {
     "data": {
      "text/plain": [
       "KNeighborsClassifier()"
      ]
     },
     "execution_count": 134,
     "metadata": {},
     "output_type": "execute_result"
    }
   ],
   "source": [
    "knn_model.fit(X_train,Y_train)"
   ]
  },
  {
   "cell_type": "code",
   "execution_count": 135,
   "id": "f0ed119a",
   "metadata": {
    "ExecuteTime": {
     "end_time": "2023-11-04T09:59:44.220018Z",
     "start_time": "2023-11-04T09:59:44.156917Z"
    }
   },
   "outputs": [
    {
     "data": {
      "text/plain": [
       "array([0, 0, 0, ..., 1, 0, 1], dtype=int64)"
      ]
     },
     "execution_count": 135,
     "metadata": {},
     "output_type": "execute_result"
    }
   ],
   "source": [
    "knn_model.predict(x)"
   ]
  },
  {
   "cell_type": "code",
   "execution_count": 136,
   "id": "115a034b",
   "metadata": {
    "ExecuteTime": {
     "end_time": "2023-11-04T09:59:44.452758Z",
     "start_time": "2023-11-04T09:59:44.422741Z"
    }
   },
   "outputs": [
    {
     "data": {
      "text/plain": [
       "0.8647058823529412"
      ]
     },
     "execution_count": 136,
     "metadata": {},
     "output_type": "execute_result"
    }
   ],
   "source": [
    "knn_model.score(X_test,Y_test)"
   ]
  },
  {
   "cell_type": "markdown",
   "id": "0b9b5355",
   "metadata": {},
   "source": [
    "# XGBOOST CLASSIFIER"
   ]
  },
  {
   "cell_type": "code",
   "execution_count": 137,
   "id": "9a1de10e",
   "metadata": {
    "ExecuteTime": {
     "end_time": "2023-11-04T09:59:45.151901Z",
     "start_time": "2023-11-04T09:59:45.143403Z"
    }
   },
   "outputs": [],
   "source": [
    "from xgboost import XGBClassifier\n",
    "xg_model = XGBClassifier(max_depth = 6,n_estimators=500, learning_rate=0.50,gamma=0.5, objective='binary:logistic')"
   ]
  },
  {
   "cell_type": "code",
   "execution_count": 138,
   "id": "db56f50c",
   "metadata": {
    "ExecuteTime": {
     "end_time": "2023-11-04T09:59:47.532395Z",
     "start_time": "2023-11-04T09:59:45.555737Z"
    }
   },
   "outputs": [
    {
     "data": {
      "text/plain": [
       "XGBClassifier(base_score=None, booster=None, callbacks=None,\n",
       "              colsample_bylevel=None, colsample_bynode=None,\n",
       "              colsample_bytree=None, early_stopping_rounds=None,\n",
       "              enable_categorical=False, eval_metric=None, feature_types=None,\n",
       "              gamma=0.5, gpu_id=None, grow_policy=None, importance_type=None,\n",
       "              interaction_constraints=None, learning_rate=0.5, max_bin=None,\n",
       "              max_cat_threshold=None, max_cat_to_onehot=None,\n",
       "              max_delta_step=None, max_depth=6, max_leaves=None,\n",
       "              min_child_weight=None, missing=nan, monotone_constraints=None,\n",
       "              n_estimators=500, n_jobs=None, num_parallel_tree=None,\n",
       "              objective='multi:softprob', predictor=None, ...)"
      ]
     },
     "execution_count": 138,
     "metadata": {},
     "output_type": "execute_result"
    }
   ],
   "source": [
    "xg_model.fit(X_train,Y_train)"
   ]
  },
  {
   "cell_type": "code",
   "execution_count": 139,
   "id": "f710cadd",
   "metadata": {
    "ExecuteTime": {
     "end_time": "2023-11-04T09:59:47.548425Z",
     "start_time": "2023-11-04T09:59:47.534440Z"
    }
   },
   "outputs": [
    {
     "data": {
      "text/plain": [
       "array([0, 0, 0, ..., 6, 6, 1], dtype=int64)"
      ]
     },
     "execution_count": 139,
     "metadata": {},
     "output_type": "execute_result"
    }
   ],
   "source": [
    "xg_model.predict(x)"
   ]
  },
  {
   "cell_type": "code",
   "execution_count": 140,
   "id": "0dc25b5a",
   "metadata": {
    "ExecuteTime": {
     "end_time": "2023-11-04T09:59:47.563972Z",
     "start_time": "2023-11-04T09:59:47.550421Z"
    }
   },
   "outputs": [
    {
     "data": {
      "text/plain": [
       "0.8588235294117647"
      ]
     },
     "execution_count": 140,
     "metadata": {},
     "output_type": "execute_result"
    }
   ],
   "source": [
    "xg_model.score(X_test,Y_test)"
   ]
  },
  {
   "cell_type": "code",
   "execution_count": 141,
   "id": "933f2368",
   "metadata": {
    "ExecuteTime": {
     "end_time": "2023-11-04T09:59:47.627071Z",
     "start_time": "2023-11-04T09:59:47.565965Z"
    }
   },
   "outputs": [
    {
     "data": {
      "text/plain": [
       "['MI_rf_model.pkl']"
      ]
     },
     "execution_count": 141,
     "metadata": {},
     "output_type": "execute_result"
    }
   ],
   "source": [
    "import joblib\n",
    "joblib.dump(rf_model,'MI_rf_model.pkl')"
   ]
  },
  {
   "cell_type": "code",
   "execution_count": null,
   "id": "e3596725",
   "metadata": {},
   "outputs": [],
   "source": []
  },
  {
   "cell_type": "code",
   "execution_count": null,
   "id": "a19f904b",
   "metadata": {},
   "outputs": [],
   "source": []
  }
 ],
 "metadata": {
  "kernelspec": {
   "display_name": "Python 3 (ipykernel)",
   "language": "python",
   "name": "python3"
  },
  "language_info": {
   "codemirror_mode": {
    "name": "ipython",
    "version": 3
   },
   "file_extension": ".py",
   "mimetype": "text/x-python",
   "name": "python",
   "nbconvert_exporter": "python",
   "pygments_lexer": "ipython3",
   "version": "3.9.12"
  }
 },
 "nbformat": 4,
 "nbformat_minor": 5
}
